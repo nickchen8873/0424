{
 "cells": [
  {
   "cell_type": "code",
   "execution_count": 2,
   "metadata": {},
   "outputs": [
    {
     "name": "stdout",
     "output_type": "stream",
     "text": [
      "請輸入數字：q\n",
      "結束此程式\n"
     ]
    }
   ],
   "source": [
    "while True:\n",
    "    num=input(\"請輸入數字：\")\n",
    "    if num==\"8\":\n",
    "        print(\"猜中了!\")\n",
    "        break\n",
    "    elif num==\"q\":\n",
    "        print(\"結束此程式\")\n",
    "        break\n",
    "    else:\n",
    "        print(\"哈哈沒猜中\")"
   ]
  },
  {
   "cell_type": "code",
   "execution_count": null,
   "metadata": {},
   "outputs": [],
   "source": []
  }
 ],
 "metadata": {
  "kernelspec": {
   "display_name": "Python 3",
   "language": "python",
   "name": "python3"
  },
  "language_info": {
   "codemirror_mode": {
    "name": "ipython",
    "version": 3
   },
   "file_extension": ".py",
   "mimetype": "text/x-python",
   "name": "python",
   "nbconvert_exporter": "python",
   "pygments_lexer": "ipython3",
   "version": "3.7.3"
  }
 },
 "nbformat": 4,
 "nbformat_minor": 2
}
