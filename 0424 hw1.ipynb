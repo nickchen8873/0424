{
 "cells": [
  {
   "cell_type": "code",
   "execution_count": 22,
   "metadata": {},
   "outputs": [
    {
     "name": "stdout",
     "output_type": "stream",
     "text": [
      "請輸入分數89\n",
      "優等\n"
     ]
    }
   ],
   "source": [
    "score=input(\"請輸入分數\")\n",
    "if score.isdigit():\n",
    "    if int(score)<60:\n",
    "        print(\"不及格\")\n",
    "    elif int(score)>=60 and int(score)<80:\n",
    "        print(\"及格\")\n",
    "    elif int(score)>=80:\n",
    "        print(\"優等\")\n",
    "else:\n",
    "    print(\"未知\")"
   ]
  },
  {
   "cell_type": "code",
   "execution_count": null,
   "metadata": {},
   "outputs": [],
   "source": []
  }
 ],
 "metadata": {
  "kernelspec": {
   "display_name": "Python 3",
   "language": "python",
   "name": "python3"
  },
  "language_info": {
   "codemirror_mode": {
    "name": "ipython",
    "version": 3
   },
   "file_extension": ".py",
   "mimetype": "text/x-python",
   "name": "python",
   "nbconvert_exporter": "python",
   "pygments_lexer": "ipython3",
   "version": "3.7.3"
  }
 },
 "nbformat": 4,
 "nbformat_minor": 2
}
